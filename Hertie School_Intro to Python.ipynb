{
 "cells": [
  {
   "cell_type": "code",
   "execution_count": null,
   "id": "05a90d53",
   "metadata": {},
   "outputs": [],
   "source": [
    "#https://github.com/tpaskhalis/DS3_Introduction_Python\n",
    "#https://tom.paskhal.is/DS3/01_introduction.html\n",
    "#https://ds3.ai/index.html#about  for all hertie courses summer 2022"
   ]
  },
  {
   "cell_type": "code",
   "execution_count": 1,
   "id": "a6ac9b0a",
   "metadata": {},
   "outputs": [],
   "source": [
    "s='time flies like a banana' #string methods follows"
   ]
  },
  {
   "cell_type": "code",
   "execution_count": 2,
   "id": "d7923239",
   "metadata": {},
   "outputs": [
    {
     "data": {
      "text/plain": [
       "'time flies like a banana'"
      ]
     },
     "execution_count": 2,
     "metadata": {},
     "output_type": "execute_result"
    }
   ],
   "source": [
    "s"
   ]
  },
  {
   "cell_type": "code",
   "execution_count": 3,
   "id": "af54e34f",
   "metadata": {},
   "outputs": [
    {
     "data": {
      "text/plain": [
       "'flies like a banana'"
      ]
     },
     "execution_count": 3,
     "metadata": {},
     "output_type": "execute_result"
    }
   ],
   "source": [
    "s[5:]"
   ]
  },
  {
   "cell_type": "code",
   "execution_count": 4,
   "id": "cc32a978",
   "metadata": {},
   "outputs": [
    {
     "data": {
      "text/plain": [
       "'TIME FLIES LIKE A BANANA'"
      ]
     },
     "execution_count": 4,
     "metadata": {},
     "output_type": "execute_result"
    }
   ],
   "source": [
    "s.upper()"
   ]
  },
  {
   "cell_type": "code",
   "execution_count": 5,
   "id": "7552ee3a",
   "metadata": {},
   "outputs": [
    {
     "data": {
      "text/plain": [
       "'Time flies like a banana'"
      ]
     },
     "execution_count": 5,
     "metadata": {},
     "output_type": "execute_result"
    }
   ],
   "source": [
    "s.capitalize()"
   ]
  },
  {
   "cell_type": "code",
   "execution_count": 7,
   "id": "70329eba",
   "metadata": {},
   "outputs": [
    {
     "data": {
      "text/plain": [
       "['time', 'flies', 'like', 'a', 'banana']"
      ]
     },
     "execution_count": 7,
     "metadata": {},
     "output_type": "execute_result"
    }
   ],
   "source": [
    "s.split(sep = ' ')"
   ]
  },
  {
   "cell_type": "code",
   "execution_count": 8,
   "id": "aa3aa4a5",
   "metadata": {},
   "outputs": [
    {
     "data": {
      "text/plain": [
       "'time-flies-like-a-banana'"
      ]
     },
     "execution_count": 8,
     "metadata": {},
     "output_type": "execute_result"
    }
   ],
   "source": [
    "s.replace(' ', '-') "
   ]
  },
  {
   "cell_type": "code",
   "execution_count": 9,
   "id": "28566bc9",
   "metadata": {},
   "outputs": [
    {
     "data": {
      "text/plain": [
       "'time-flies-like-a-banana'"
      ]
     },
     "execution_count": 9,
     "metadata": {},
     "output_type": "execute_result"
    }
   ],
   "source": [
    "'-'.join(s.split(sep = ' ')) #methods calls can be nested withn each other"
   ]
  },
  {
   "cell_type": "code",
   "execution_count": 10,
   "id": "5228afcb",
   "metadata": {},
   "outputs": [],
   "source": [
    "t=(0, 'one', 2, 2) #tuples methods follow"
   ]
  },
  {
   "cell_type": "code",
   "execution_count": 11,
   "id": "2532b7eb",
   "metadata": {},
   "outputs": [
    {
     "data": {
      "text/plain": [
       "tuple"
      ]
     },
     "execution_count": 11,
     "metadata": {},
     "output_type": "execute_result"
    }
   ],
   "source": [
    "type(t)"
   ]
  },
  {
   "cell_type": "code",
   "execution_count": 13,
   "id": "32258c31",
   "metadata": {},
   "outputs": [
    {
     "data": {
      "text/plain": [
       "4"
      ]
     },
     "execution_count": 13,
     "metadata": {},
     "output_type": "execute_result"
    }
   ],
   "source": [
    "len(t)"
   ]
  },
  {
   "cell_type": "code",
   "execution_count": 14,
   "id": "e85d64da",
   "metadata": {},
   "outputs": [
    {
     "data": {
      "text/plain": [
       "('one', 2, 2)"
      ]
     },
     "execution_count": 14,
     "metadata": {},
     "output_type": "execute_result"
    }
   ],
   "source": [
    "t[1:]"
   ]
  },
  {
   "cell_type": "code",
   "execution_count": 15,
   "id": "5c322314",
   "metadata": {},
   "outputs": [
    {
     "data": {
      "text/plain": [
       "(0, 'one', 2, 2, 'three', 5)"
      ]
     },
     "execution_count": 15,
     "metadata": {},
     "output_type": "execute_result"
    }
   ],
   "source": [
    "t + ('three', 5) #like strings tuples can be concatenated"
   ]
  },
  {
   "cell_type": "code",
   "execution_count": 16,
   "id": "e92989d8",
   "metadata": {},
   "outputs": [],
   "source": [
    "l=[0, 'one', 2, 3]"
   ]
  },
  {
   "cell_type": "code",
   "execution_count": 17,
   "id": "cd4c451c",
   "metadata": {},
   "outputs": [
    {
     "data": {
      "text/plain": [
       "'one'"
      ]
     },
     "execution_count": 17,
     "metadata": {},
     "output_type": "execute_result"
    }
   ],
   "source": [
    "l[1]"
   ]
  },
  {
   "cell_type": "code",
   "execution_count": 18,
   "id": "f8288009",
   "metadata": {},
   "outputs": [
    {
     "data": {
      "text/plain": [
       "[0, 'one', 2, 3]"
      ]
     },
     "execution_count": 18,
     "metadata": {},
     "output_type": "execute_result"
    }
   ],
   "source": [
    "l"
   ]
  },
  {
   "cell_type": "code",
   "execution_count": 19,
   "id": "4593e437",
   "metadata": {},
   "outputs": [],
   "source": [
    "l[1]=1"
   ]
  },
  {
   "cell_type": "code",
   "execution_count": 20,
   "id": "4573a26d",
   "metadata": {},
   "outputs": [
    {
     "data": {
      "text/plain": [
       "[0, 1, 2, 3]"
      ]
     },
     "execution_count": 20,
     "metadata": {},
     "output_type": "execute_result"
    }
   ],
   "source": [
    "l"
   ]
  },
  {
   "cell_type": "code",
   "execution_count": 21,
   "id": "c18d169c",
   "metadata": {},
   "outputs": [
    {
     "data": {
      "text/plain": [
       "[1, 2, 3]"
      ]
     },
     "execution_count": 21,
     "metadata": {},
     "output_type": "execute_result"
    }
   ],
   "source": [
    "l[1:]"
   ]
  },
  {
   "cell_type": "code",
   "execution_count": 22,
   "id": "cc33fb0d",
   "metadata": {},
   "outputs": [
    {
     "data": {
      "text/plain": [
       "2"
      ]
     },
     "execution_count": 22,
     "metadata": {},
     "output_type": "execute_result"
    }
   ],
   "source": [
    "l[-2]"
   ]
  },
  {
   "cell_type": "code",
   "execution_count": 23,
   "id": "7b77ec39",
   "metadata": {},
   "outputs": [
    {
     "data": {
      "text/plain": [
       "[0, 2]"
      ]
     },
     "execution_count": 23,
     "metadata": {},
     "output_type": "execute_result"
    }
   ],
   "source": [
    "l[::2] #subset every second element, list [start:stop:step]"
   ]
  },
  {
   "cell_type": "code",
   "execution_count": 24,
   "id": "d397099e",
   "metadata": {},
   "outputs": [
    {
     "data": {
      "text/plain": [
       "[3, 2, 1, 0]"
      ]
     },
     "execution_count": 24,
     "metadata": {},
     "output_type": "execute_result"
    }
   ],
   "source": [
    "l[::-1] #reverse the list, subset all elements in reverse order"
   ]
  },
  {
   "cell_type": "code",
   "execution_count": 26,
   "id": "59b97fbf",
   "metadata": {},
   "outputs": [],
   "source": [
    "o={'apple', 'orange', 'watermelon'} #operations with sets"
   ]
  },
  {
   "cell_type": "code",
   "execution_count": 29,
   "id": "16aeb54f",
   "metadata": {},
   "outputs": [
    {
     "data": {
      "text/plain": [
       "{'apple', 'orange', 'watermelon'}"
      ]
     },
     "execution_count": 29,
     "metadata": {},
     "output_type": "execute_result"
    }
   ],
   "source": [
    "o"
   ]
  },
  {
   "cell_type": "code",
   "execution_count": 27,
   "id": "e65f9c16",
   "metadata": {},
   "outputs": [],
   "source": [
    "#sets retain only original values\n",
    "o1={'apple', 'apple', 'orange', 'watermelon'}"
   ]
  },
  {
   "cell_type": "code",
   "execution_count": 28,
   "id": "8ef103ac",
   "metadata": {},
   "outputs": [
    {
     "data": {
      "text/plain": [
       "{'apple', 'orange', 'watermelon'}"
      ]
     },
     "execution_count": 28,
     "metadata": {},
     "output_type": "execute_result"
    }
   ],
   "source": [
    "o1"
   ]
  },
  {
   "cell_type": "code",
   "execution_count": 30,
   "id": "3db11664",
   "metadata": {},
   "outputs": [],
   "source": [
    "nordic={'Denmark', 'Iceland', 'Finland', 'Norway', 'Sweden'}"
   ]
  },
  {
   "cell_type": "code",
   "execution_count": 31,
   "id": "44b06d0e",
   "metadata": {},
   "outputs": [],
   "source": [
    "eu={'Denmark', 'Finland', 'Sweden'}"
   ]
  },
  {
   "cell_type": "code",
   "execution_count": 32,
   "id": "f384de04",
   "metadata": {},
   "outputs": [],
   "source": [
    "krones={'Denmark', 'Sweden'}"
   ]
  },
  {
   "cell_type": "code",
   "execution_count": 33,
   "id": "c15a8bf4",
   "metadata": {},
   "outputs": [],
   "source": [
    "euro=eu.difference(krones)"
   ]
  },
  {
   "cell_type": "code",
   "execution_count": 34,
   "id": "88f0dece",
   "metadata": {},
   "outputs": [
    {
     "data": {
      "text/plain": [
       "{'Finland'}"
      ]
     },
     "execution_count": 34,
     "metadata": {},
     "output_type": "execute_result"
    }
   ],
   "source": [
    "euro"
   ]
  },
  {
   "cell_type": "code",
   "execution_count": 35,
   "id": "4acfe1f1",
   "metadata": {},
   "outputs": [
    {
     "data": {
      "text/plain": [
       "{'Iceland', 'Liechtenstein', 'Norway', 'Switzerland'}"
      ]
     },
     "execution_count": 35,
     "metadata": {},
     "output_type": "execute_result"
    }
   ],
   "source": [
    "efta=nordic.difference(eu).union({'Liechtenstein', 'Switzerland'})\n",
    "efta"
   ]
  },
  {
   "cell_type": "code",
   "execution_count": 36,
   "id": "afca2831",
   "metadata": {},
   "outputs": [
    {
     "data": {
      "text/plain": [
       "{'Iceland', 'Norway'}"
      ]
     },
     "execution_count": 36,
     "metadata": {},
     "output_type": "execute_result"
    }
   ],
   "source": [
    "efta.intersection(nordic)"
   ]
  },
  {
   "cell_type": "code",
   "execution_count": 37,
   "id": "c735a661",
   "metadata": {},
   "outputs": [],
   "source": [
    "schengen=efta.union(eu)"
   ]
  },
  {
   "cell_type": "code",
   "execution_count": 38,
   "id": "04c48491",
   "metadata": {},
   "outputs": [
    {
     "data": {
      "text/plain": [
       "{'Denmark',\n",
       " 'Finland',\n",
       " 'Iceland',\n",
       " 'Liechtenstein',\n",
       " 'Norway',\n",
       " 'Sweden',\n",
       " 'Switzerland'}"
      ]
     },
     "execution_count": 38,
     "metadata": {},
     "output_type": "execute_result"
    }
   ],
   "source": [
    "schengen"
   ]
  },
  {
   "cell_type": "code",
   "execution_count": 41,
   "id": "326d7c6b",
   "metadata": {},
   "outputs": [
    {
     "data": {
      "text/plain": [
       "{'apple:150.0', 'banana:120.0', 'watermelon:3000.0'}"
      ]
     },
     "execution_count": 41,
     "metadata": {},
     "output_type": "execute_result"
    }
   ],
   "source": [
    "#dictionaries\n",
    "d={'apple:150.0', 'banana:120.0', 'watermelon:3000.0'}\n",
    "d"
   ]
  },
  {
   "cell_type": "code",
   "execution_count": 42,
   "id": "d3543e81",
   "metadata": {},
   "outputs": [
    {
     "ename": "TypeError",
     "evalue": "'set' object is not subscriptable",
     "output_type": "error",
     "traceback": [
      "\u001b[1;31m---------------------------------------------------------------------------\u001b[0m",
      "\u001b[1;31mTypeError\u001b[0m                                 Traceback (most recent call last)",
      "Input \u001b[1;32mIn [42]\u001b[0m, in \u001b[0;36m<cell line: 1>\u001b[1;34m()\u001b[0m\n\u001b[1;32m----> 1\u001b[0m \u001b[43md\u001b[49m\u001b[43m[\u001b[49m\u001b[38;5;124;43m'\u001b[39;49m\u001b[38;5;124;43mapple\u001b[39;49m\u001b[38;5;124;43m'\u001b[39;49m\u001b[43m]\u001b[49m\n",
      "\u001b[1;31mTypeError\u001b[0m: 'set' object is not subscriptable"
     ]
    }
   ],
   "source": [
    "d['apple']"
   ]
  },
  {
   "cell_type": "code",
   "execution_count": 43,
   "id": "d3114f17",
   "metadata": {},
   "outputs": [
    {
     "data": {
      "text/plain": [
       "{'apple': 150.0, 'banana': 120.0, 'watermelon': 3000.0}"
      ]
     },
     "execution_count": 43,
     "metadata": {},
     "output_type": "execute_result"
    }
   ],
   "source": [
    "d={'apple':150.0, 'banana':120.0, 'watermelon':3000.0}\n",
    "d"
   ]
  },
  {
   "cell_type": "code",
   "execution_count": 44,
   "id": "cd0e9951",
   "metadata": {},
   "outputs": [
    {
     "data": {
      "text/plain": [
       "150.0"
      ]
     },
     "execution_count": 44,
     "metadata": {},
     "output_type": "execute_result"
    }
   ],
   "source": [
    "d['apple'] #unlike tuples, lists and strings, dictionaries are indexed by 'keys'"
   ]
  },
  {
   "cell_type": "code",
   "execution_count": 45,
   "id": "370bf20f",
   "metadata": {},
   "outputs": [
    {
     "ename": "KeyError",
     "evalue": "0",
     "output_type": "error",
     "traceback": [
      "\u001b[1;31m---------------------------------------------------------------------------\u001b[0m",
      "\u001b[1;31mKeyError\u001b[0m                                  Traceback (most recent call last)",
      "Input \u001b[1;32mIn [45]\u001b[0m, in \u001b[0;36m<cell line: 1>\u001b[1;34m()\u001b[0m\n\u001b[1;32m----> 1\u001b[0m \u001b[43md\u001b[49m\u001b[43m[\u001b[49m\u001b[38;5;241;43m0\u001b[39;49m\u001b[43m]\u001b[49m\n",
      "\u001b[1;31mKeyError\u001b[0m: 0"
     ]
    }
   ],
   "source": [
    "d[0] #rather than integers"
   ]
  },
  {
   "cell_type": "code",
   "execution_count": 46,
   "id": "e1e00be7",
   "metadata": {},
   "outputs": [
    {
     "data": {
      "text/plain": [
       "{'apple': 150.0, 'banana': 120.0, 'watermelon': 3000.0, 'strawberry': 12.0}"
      ]
     },
     "execution_count": 46,
     "metadata": {},
     "output_type": "execute_result"
    }
   ],
   "source": [
    "d['strawberry']=12.0\n",
    "d"
   ]
  },
  {
   "cell_type": "code",
   "execution_count": 47,
   "id": "96b9dd16",
   "metadata": {},
   "outputs": [
    {
     "data": {
      "text/plain": [
       "(0, 'one', 2, 2)"
      ]
     },
     "execution_count": 47,
     "metadata": {},
     "output_type": "execute_result"
    }
   ],
   "source": [
    "#conversion between non-scalar types\n",
    "t #tuple"
   ]
  },
  {
   "cell_type": "code",
   "execution_count": 48,
   "id": "dc5b15c9",
   "metadata": {},
   "outputs": [
    {
     "data": {
      "text/plain": [
       "[0, 'one', 2, 2]"
      ]
     },
     "execution_count": 48,
     "metadata": {},
     "output_type": "execute_result"
    }
   ],
   "source": [
    "list(t) #converts to list with a list function"
   ]
  },
  {
   "cell_type": "code",
   "execution_count": 49,
   "id": "3e63b04a",
   "metadata": {},
   "outputs": [
    {
     "data": {
      "text/plain": [
       "[0, 'one', 2, 2]"
      ]
     },
     "execution_count": 49,
     "metadata": {},
     "output_type": "execute_result"
    }
   ],
   "source": [
    "[x for x in t] #list comprehension, [expr for element in iterable if test]\n",
    "#x+1 would break in element 2, for example"
   ]
  },
  {
   "cell_type": "code",
   "execution_count": 50,
   "id": "343379eb",
   "metadata": {},
   "outputs": [],
   "source": [
    "t=[0, 1, 1, 2]"
   ]
  },
  {
   "cell_type": "code",
   "execution_count": 51,
   "id": "3056349b",
   "metadata": {},
   "outputs": [
    {
     "data": {
      "text/plain": [
       "[3, 3, 4]"
      ]
     },
     "execution_count": 51,
     "metadata": {},
     "output_type": "execute_result"
    }
   ],
   "source": [
    "[i + 2 for i in t if i>=1]"
   ]
  },
  {
   "cell_type": "code",
   "execution_count": 52,
   "id": "81c67ef9",
   "metadata": {},
   "outputs": [
    {
     "data": {
      "text/plain": [
       "<method-wrapper '__iter__' of list object at 0x000001DDE192FB00>"
      ]
     },
     "execution_count": 52,
     "metadata": {},
     "output_type": "execute_result"
    }
   ],
   "source": [
    "t.__iter__"
   ]
  },
  {
   "cell_type": "code",
   "execution_count": 54,
   "id": "cdf25bac",
   "metadata": {},
   "outputs": [
    {
     "data": {
      "text/plain": [
       "[0, 1, 1, 2]"
      ]
     },
     "execution_count": 54,
     "metadata": {},
     "output_type": "execute_result"
    }
   ],
   "source": [
    "set2=([0, 1, 1, 2]) #not a clue\n",
    "set2"
   ]
  },
  {
   "cell_type": "code",
   "execution_count": 55,
   "id": "773433be",
   "metadata": {},
   "outputs": [
    {
     "data": {
      "text/plain": [
       "[(0, 1, 1, 2)]"
      ]
     },
     "execution_count": 55,
     "metadata": {},
     "output_type": "execute_result"
    }
   ],
   "source": [
    "set2=[(0, 1, 1, 2)] #not a clue\n",
    "set2"
   ]
  },
  {
   "cell_type": "code",
   "execution_count": 56,
   "id": "96a93419",
   "metadata": {},
   "outputs": [
    {
     "data": {
      "text/plain": [
       "{'apple': 150.0, 'banana': 120.0, 'watermelon': 3000.0, 'strawberry': 12.0}"
      ]
     },
     "execution_count": 56,
     "metadata": {},
     "output_type": "execute_result"
    }
   ],
   "source": [
    "d #for mutable types (dictionaries, lists, sets), aliases happen instead of reassigment of values. see below"
   ]
  },
  {
   "cell_type": "code",
   "execution_count": 57,
   "id": "9d0cabd3",
   "metadata": {},
   "outputs": [],
   "source": [
    "d1 = d #just an alias\n",
    "d2=d.copy() #create a copy\n",
    "d['watermelon']=500 #modify original dictionary"
   ]
  },
  {
   "cell_type": "code",
   "execution_count": 58,
   "id": "2ac82309",
   "metadata": {},
   "outputs": [
    {
     "data": {
      "text/plain": [
       "{'apple': 150.0, 'banana': 120.0, 'watermelon': 500, 'strawberry': 12.0}"
      ]
     },
     "execution_count": 58,
     "metadata": {},
     "output_type": "execute_result"
    }
   ],
   "source": [
    "d1"
   ]
  },
  {
   "cell_type": "code",
   "execution_count": 59,
   "id": "3c306a91",
   "metadata": {},
   "outputs": [
    {
     "data": {
      "text/plain": [
       "{'apple': 150.0, 'banana': 120.0, 'watermelon': 3000.0, 'strawberry': 12.0}"
      ]
     },
     "execution_count": 59,
     "metadata": {},
     "output_type": "execute_result"
    }
   ],
   "source": [
    "d2"
   ]
  },
  {
   "cell_type": "code",
   "execution_count": null,
   "id": "d9beee44",
   "metadata": {},
   "outputs": [],
   "source": [
    "#inmutables (unchangeables) are tuples and strings, data types and range"
   ]
  },
  {
   "cell_type": "code",
   "execution_count": null,
   "id": "124e6681",
   "metadata": {},
   "outputs": [],
   "source": [
    "#https://www.geeksforgeeks.org/memory-management-in-python/"
   ]
  },
  {
   "cell_type": "code",
   "execution_count": 60,
   "id": "a877af2e",
   "metadata": {},
   "outputs": [],
   "source": [
    "dishwasher='dishwasher'"
   ]
  },
  {
   "cell_type": "code",
   "execution_count": 61,
   "id": "3fee3c60",
   "metadata": {},
   "outputs": [
    {
     "data": {
      "text/plain": [
       "'dish'"
      ]
     },
     "execution_count": 61,
     "metadata": {},
     "output_type": "execute_result"
    }
   ],
   "source": [
    "dish=dishwasher[:4]\n",
    "dish"
   ]
  },
  {
   "cell_type": "code",
   "execution_count": 63,
   "id": "884d2d71",
   "metadata": {},
   "outputs": [
    {
     "data": {
      "text/plain": [
       "'wash'"
      ]
     },
     "execution_count": 63,
     "metadata": {},
     "output_type": "execute_result"
    }
   ],
   "source": [
    "wash=dishwasher[4:8]\n",
    "wash"
   ]
  },
  {
   "cell_type": "code",
   "execution_count": 65,
   "id": "83a0239b",
   "metadata": {},
   "outputs": [
    {
     "data": {
      "text/plain": [
       "'he'"
      ]
     },
     "execution_count": 65,
     "metadata": {},
     "output_type": "execute_result"
    }
   ],
   "source": [
    "he=dishwasher[7:9]\n",
    "he"
   ]
  },
  {
   "cell_type": "code",
   "execution_count": 66,
   "id": "50bd8baf",
   "metadata": {},
   "outputs": [
    {
     "data": {
      "text/plain": [
       "'saw'"
      ]
     },
     "execution_count": 66,
     "metadata": {},
     "output_type": "execute_result"
    }
   ],
   "source": [
    "saw = dishwasher[6:3:-1]\n",
    "saw"
   ]
  },
  {
   "cell_type": "code",
   "execution_count": 67,
   "id": "8654357a",
   "metadata": {},
   "outputs": [
    {
     "data": {
      "text/plain": [
       "'rehsawhsid'"
      ]
     },
     "execution_count": 67,
     "metadata": {},
     "output_type": "execute_result"
    }
   ],
   "source": [
    "rev = dishwasher[::-1]\n",
    "rev"
   ]
  },
  {
   "cell_type": "code",
   "execution_count": 68,
   "id": "527731d1",
   "metadata": {},
   "outputs": [
    {
     "data": {
      "text/plain": [
       "'saw'"
      ]
     },
     "execution_count": 68,
     "metadata": {},
     "output_type": "execute_result"
    }
   ],
   "source": [
    "saw=dishwasher[-4:-7:-1]\n",
    "saw"
   ]
  },
  {
   "cell_type": "code",
   "execution_count": 69,
   "id": "3c339adf",
   "metadata": {},
   "outputs": [
    {
     "data": {
      "text/plain": [
       "{'Czech Republic', 'Hungary', 'Poland', 'Slovakia'}"
      ]
     },
     "execution_count": 69,
     "metadata": {},
     "output_type": "execute_result"
    }
   ],
   "source": [
    "visegrad={'Poland', 'Czech Republic', 'Hungary', 'Slovakia'}\n",
    "visegrad"
   ]
  },
  {
   "cell_type": "code",
   "execution_count": 70,
   "id": "2ec8a70a",
   "metadata": {},
   "outputs": [
    {
     "data": {
      "text/plain": [
       "{'Estonia', 'Latvia', 'Lithuania'}"
      ]
     },
     "execution_count": 70,
     "metadata": {},
     "output_type": "execute_result"
    }
   ],
   "source": [
    "baltic={'Estonia', 'Latvia', 'Lithuania'}\n",
    "baltic"
   ]
  },
  {
   "cell_type": "code",
   "execution_count": 71,
   "id": "a8b9cd6c",
   "metadata": {},
   "outputs": [],
   "source": [
    "baltic=set(baltic)"
   ]
  },
  {
   "cell_type": "code",
   "execution_count": 72,
   "id": "61fdefb5",
   "metadata": {},
   "outputs": [
    {
     "data": {
      "text/plain": [
       "{'Estonia', 'Latvia', 'Lithuania'}"
      ]
     },
     "execution_count": 72,
     "metadata": {},
     "output_type": "execute_result"
    }
   ],
   "source": [
    "baltic"
   ]
  },
  {
   "cell_type": "code",
   "execution_count": 73,
   "id": "3cae829c",
   "metadata": {},
   "outputs": [],
   "source": [
    "benelux={'Belgium', 'Netherlands', 'Luxembourg'}\n",
    "benelux=set(benelux)"
   ]
  },
  {
   "cell_type": "code",
   "execution_count": 74,
   "id": "feaf4a9b",
   "metadata": {},
   "outputs": [
    {
     "data": {
      "text/plain": [
       "['Czech Republic', 'Hungary', 'Poland', 'Slovakia']"
      ]
     },
     "execution_count": 74,
     "metadata": {},
     "output_type": "execute_result"
    }
   ],
   "source": [
    "visegrad=sorted(list(visegrad))\n",
    "visegrad"
   ]
  },
  {
   "cell_type": "code",
   "execution_count": 75,
   "id": "a55bbc68",
   "metadata": {},
   "outputs": [
    {
     "data": {
      "text/plain": [
       "{'Bratislava', 'Budapest', 'Prague', 'Warsaw'}"
      ]
     },
     "execution_count": 75,
     "metadata": {},
     "output_type": "execute_result"
    }
   ],
   "source": [
    "capitals={'Prague', 'Budapest', 'Warsaw', 'Bratislava'} #the curly braces set the elements alphabetically\n",
    "capitals"
   ]
  },
  {
   "cell_type": "code",
   "execution_count": null,
   "id": "4b206331",
   "metadata": {},
   "outputs": [],
   "source": [
    "# view recordings here: https://ds3.ai/2022/python"
   ]
  },
  {
   "cell_type": "code",
   "execution_count": 76,
   "id": "48c5a0d4",
   "metadata": {},
   "outputs": [
    {
     "data": {
      "text/plain": [
       "[('Czech Republic', 'Bratislava'),\n",
       " ('Hungary', 'Warsaw'),\n",
       " ('Poland', 'Budapest'),\n",
       " ('Slovakia', 'Prague')]"
      ]
     },
     "execution_count": 76,
     "metadata": {},
     "output_type": "execute_result"
    }
   ],
   "source": [
    "list(zip(visegrad, capitals))"
   ]
  },
  {
   "cell_type": "code",
   "execution_count": 77,
   "id": "6154cd26",
   "metadata": {},
   "outputs": [
    {
     "data": {
      "text/plain": [
       "(('Czech Republic', 'Bratislava'),\n",
       " ('Hungary', 'Warsaw'),\n",
       " ('Poland', 'Budapest'),\n",
       " ('Slovakia', 'Prague'))"
      ]
     },
     "execution_count": 77,
     "metadata": {},
     "output_type": "execute_result"
    }
   ],
   "source": [
    "tuple(zip(visegrad, capitals))"
   ]
  },
  {
   "cell_type": "code",
   "execution_count": 78,
   "id": "1e16ee79",
   "metadata": {},
   "outputs": [
    {
     "data": {
      "text/plain": [
       "['Prague', 'Budapest', 'Warsaw', 'Bratislava']"
      ]
     },
     "execution_count": 78,
     "metadata": {},
     "output_type": "execute_result"
    }
   ],
   "source": [
    "capitals=['Prague', 'Budapest', 'Warsaw', 'Bratislava']  # square brackets keep teh original order of the elements\n",
    "capitals"
   ]
  },
  {
   "cell_type": "code",
   "execution_count": 79,
   "id": "6f90c271",
   "metadata": {},
   "outputs": [
    {
     "data": {
      "text/plain": [
       "(('Czech Republic', 'Prague'),\n",
       " ('Hungary', 'Budapest'),\n",
       " ('Poland', 'Warsaw'),\n",
       " ('Slovakia', 'Bratislava'))"
      ]
     },
     "execution_count": 79,
     "metadata": {},
     "output_type": "execute_result"
    }
   ],
   "source": [
    "tuple(zip(visegrad, capitals))"
   ]
  },
  {
   "cell_type": "code",
   "execution_count": null,
   "id": "dc5da1f4",
   "metadata": {},
   "outputs": [],
   "source": [
    "#start with pandas dataframes\n",
    "#https://www.kaggle.com/code/tpaskhalis/notebook0fa664e7a2\n",
    "#https://colab.research.google.com/github/tpaskhalis/DS3_Introduction_Python/blob/main/lectures/03_pandas.ipynb\n",
    "#https://r4ds.had.co.nz/tidy-data.html?q=tidy%20data#tidy-data-1\n",
    "\n",
    "#There are three interrelated rules which make a dataset tidy:\n",
    "#Each variable must have its own column.\n",
    "#Each observation must have its own row.\n",
    "#Each value must have its own cell.\n",
    "\n",
    "#computer memory limits the size of data to be handled in python.\n",
    "\n",
    "#numpy for array data type\n",
    "#scipy library for linear algebra\n",
    "#scikit-learn library for machine learning"
   ]
  },
  {
   "cell_type": "code",
   "execution_count": 81,
   "id": "d8932d98",
   "metadata": {},
   "outputs": [
    {
     "data": {
      "text/plain": [
       "0     150.0\n",
       "1     120.0\n",
       "2    3000.0\n",
       "dtype: float64"
      ]
     },
     "execution_count": 81,
     "metadata": {},
     "output_type": "execute_result"
    }
   ],
   "source": [
    "import pandas as pd\n",
    "sr1=pd.Series([150.0, 120.0, 3000.0])\n",
    "sr1"
   ]
  },
  {
   "cell_type": "code",
   "execution_count": 82,
   "id": "456c9f0e",
   "metadata": {},
   "outputs": [
    {
     "data": {
      "text/plain": [
       "2    3000.0\n",
       "dtype: float64"
      ]
     },
     "execution_count": 82,
     "metadata": {},
     "output_type": "execute_result"
    }
   ],
   "source": [
    "sr1[sr1>200]"
   ]
  },
  {
   "cell_type": "code",
   "execution_count": 83,
   "id": "3f42f67c",
   "metadata": {},
   "outputs": [
    {
     "data": {
      "text/plain": [
       "{'apple': 150.0, 'banana': 120.0, 'watermelon': 500, 'strawberry': 12.0}"
      ]
     },
     "execution_count": 83,
     "metadata": {},
     "output_type": "execute_result"
    }
   ],
   "source": [
    "d"
   ]
  },
  {
   "cell_type": "code",
   "execution_count": 84,
   "id": "6afb5eda",
   "metadata": {},
   "outputs": [
    {
     "data": {
      "text/plain": [
       "apple         150.0\n",
       "banana        120.0\n",
       "watermelon    500.0\n",
       "strawberry     12.0\n",
       "dtype: float64"
      ]
     },
     "execution_count": 84,
     "metadata": {},
     "output_type": "execute_result"
    }
   ],
   "source": [
    "sr2=pd.Series(d)\n",
    "sr2"
   ]
  },
  {
   "cell_type": "code",
   "execution_count": 85,
   "id": "fbc1e2b6",
   "metadata": {},
   "outputs": [
    {
     "data": {
      "text/plain": [
       "150.0"
      ]
     },
     "execution_count": 85,
     "metadata": {},
     "output_type": "execute_result"
    }
   ],
   "source": [
    "sr2[0] #recall that this slicing is impossible from dictionaries"
   ]
  },
  {
   "cell_type": "code",
   "execution_count": 86,
   "id": "236cb5b5",
   "metadata": {},
   "outputs": [
    {
     "data": {
      "text/plain": [
       "Index(['apple', 'banana', 'watermelon', 'strawberry'], dtype='object')"
      ]
     },
     "execution_count": 86,
     "metadata": {},
     "output_type": "execute_result"
    }
   ],
   "source": [
    "sr2.index"
   ]
  },
  {
   "cell_type": "code",
   "execution_count": null,
   "id": "803b8445",
   "metadata": {},
   "outputs": [],
   "source": [
    "#DataFrame.loc() provides method for label location\n",
    "#DataFrame.iloc() provides method for index location\n",
    "df.iloc[0] provides the first row\n",
    "df.iloc[:,0] provides the first column"
   ]
  },
  {
   "cell_type": "code",
   "execution_count": null,
   "id": "22ec727d",
   "metadata": {},
   "outputs": [],
   "source": []
  }
 ],
 "metadata": {
  "kernelspec": {
   "display_name": "Python 3 (ipykernel)",
   "language": "python",
   "name": "python3"
  },
  "language_info": {
   "codemirror_mode": {
    "name": "ipython",
    "version": 3
   },
   "file_extension": ".py",
   "mimetype": "text/x-python",
   "name": "python",
   "nbconvert_exporter": "python",
   "pygments_lexer": "ipython3",
   "version": "3.9.12"
  }
 },
 "nbformat": 4,
 "nbformat_minor": 5
}
